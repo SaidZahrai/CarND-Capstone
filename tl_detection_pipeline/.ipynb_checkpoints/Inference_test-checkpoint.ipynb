{
 "cells": [
  {
   "cell_type": "markdown",
   "metadata": {},
   "source": [
    "# Traffic Light Detection and Classification - Udacity CarND Capstone\n",
    "Using a pre-trained model to detect objects in an image."
   ]
  },
  {
   "cell_type": "code",
   "execution_count": 1,
   "metadata": {},
   "outputs": [],
   "source": [
    "import numpy as np\n",
    "import os\n",
    "import sys\n",
    "import tensorflow as tf\n",
    "import time\n",
    "\n",
    "from collections import defaultdict\n",
    "from io import StringIO\n",
    "from matplotlib import pyplot as plt\n",
    "from PIL import Image\n",
    "%matplotlib inline"
   ]
  },
  {
   "cell_type": "markdown",
   "metadata": {},
   "source": [
    "## Object detection imports\n",
    "\n",
    "Here are the imports from the object detection module."
   ]
  },
  {
   "cell_type": "code",
   "execution_count": 2,
   "metadata": {},
   "outputs": [],
   "source": [
    "from object_detection.utils import label_map_util\n",
    "from object_detection.utils import visualization_utils as vis_util"
   ]
  },
  {
   "cell_type": "markdown",
   "metadata": {},
   "source": [
    "## Model preparation"
   ]
  },
  {
   "cell_type": "code",
   "execution_count": 3,
   "metadata": {},
   "outputs": [
    {
     "ename": "SyntaxError",
     "evalue": "invalid syntax (<ipython-input-3-4cab78256f72>, line 24)",
     "output_type": "error",
     "traceback": [
      "\u001b[1;36m  File \u001b[1;32m\"<ipython-input-3-4cab78256f72>\"\u001b[1;36m, line \u001b[1;32m24\u001b[0m\n\u001b[1;33m    Faster RCNN\u001b[0m\n\u001b[1;37m              ^\u001b[0m\n\u001b[1;31mSyntaxError\u001b[0m\u001b[1;31m:\u001b[0m invalid syntax\n"
     ]
    }
   ],
   "source": [
    "ssd_inception_sim_model = 'frozen_models/frozen_sim_inception/frozen_inference_graph.pb'\n",
    "ssd_inception_real_model = 'frozen_models/frozen_real_inception_6561/frozen_inference_graph.pb'\n",
    "faster_rcnn_sim_model = 'frozen_models/faster_rcnn_frozen_sim/frozen_inference_graph.pb'\n",
    "faster_rcnn_real_model = 'frozen_models/faster_rcnn_frozen_real/frozen_inference_graph.pb'\n",
    "\n",
    "trained_model = 'frozen_sim/frozen_inference_graph.pb'\n",
    "\n",
    "\n",
    "\n",
    "PATH_TO_ROOT = r'C:/Users/saidz/git/CarND-Capstone/tl_detection_pipeline/'\n",
    "\n",
    "\n",
    "PATH_TO_LABELS = r'C:/Users/saidz/tensorflow/models/research/object_detection/data/mscoco_label_map.pbtxt'\n",
    "NUM_CLASSES = 13\n",
    "NUM_CLASSES = 90\n",
    "\n",
    "os.chdir(PATH_TO_ROOT)\n",
    "\n",
    "M = \"MOBILENET\"\n",
    "\n",
    "if (M == \"FASTER\"):\n",
    "    PATH_TO_MODEL = PATH_TO_ROOT + r'annotation_pipeline_data/faster_rcnn_resnet101_coco_2018_01_28/frozen_inference_graph.pb'\n",
    "    PATH_TO_MODEL = PATH_TO_ROOT + r'frozen_sim_FCNN/frozen_inference_graph.pb'\n",
    "    !python c:/users/saidz/tensorflow/models/research/object_detection/export_inference_graph.py --pipeline_config_path=annotation_pipeline_data/faster_rcnn_resnet101_coco.config --trained_checkpoint_prefix=annotation_pipeline_data/faster_rcnn_resnet101_coco_2018_01_28/model.ckpt --output_directory=frozen_sim_faster/\n",
    "elif (M == \"INCEPTION\"):\n",
    "    PATH_TO_MODEL = PATH_TO_ROOT + r'annotation_pipeline_data/ssd_inception_v2_coco_2018_01_28/frozen_inference_graph.pb'\n",
    "    PATH_TO_MODEL = PATH_TO_ROOT + r'frozen_sim_FCNN/frozen_inference_graph.pb'\n",
    "    Faster RCNN\n",
    "    !python c:/users/saidz/tensorflow/models/research/object_detection/export_inference_graph.py --pipeline_config_path=annotation_pipeline_data/ssd_inception_v2_coco.config --trained_checkpoint_prefix=annotation_pipeline_data/ssd_inception_v2_coco_2018_01_28/model.ckpt --output_directory=frozen_sim_inception/\n",
    "elif (M == \"MOBILENET\"):\n",
    "    PATH_TO_MODEL = PATH_TO_ROOT + r'annotation_pipeline_data/ssd_mobilenet_v2_coco_2018_03_29/frozen_inference_graph.pb'\n",
    "    PATH_TO_MODEL = PATH_TO_ROOT + r'frozen_sim_FCNN/frozen_inference_graph.pb'\n",
    "    Faster RCNN\n",
    "    !python c:/users/saidz/tensorflow/models/research/object_detection/export_inference_graph.py --pipeline_config_path=annotation_pipeline_data/ssd_mobilenet_v2_coco.config --trained_checkpoint_prefix=annotation_pipeline_data/ssd_mobilenet_v2_coco_2018_03_29/model.ckpt --output_directory=frozen_sim_mobilenet/\n"
   ]
  },
  {
   "cell_type": "markdown",
   "metadata": {},
   "source": [
    "## Loading label map\n",
    "\n",
    "Label maps map indices to category names, so that when our convolution network predicts 2, we know that this corresponds to Red. Here we use internal utility functions, but anything that returns a dictionary mapping integers to appropriate string labels would be fine."
   ]
  },
  {
   "cell_type": "code",
   "execution_count": null,
   "metadata": {},
   "outputs": [],
   "source": [
    "label_map = label_map_util.load_labelmap(PATH_TO_LABELS)\n",
    "categories = label_map_util.convert_label_map_to_categories(label_map, max_num_classes=NUM_CLASSES, use_display_name=True)\n",
    "category_index = label_map_util.create_category_index(categories)\n",
    "print(category_index)"
   ]
  },
  {
   "cell_type": "code",
   "execution_count": null,
   "metadata": {},
   "outputs": [],
   "source": [
    "def load_image_into_numpy_array(image):\n",
    "  (im_width, im_height) = image.size\n",
    "  return np.array(image.getdata()).reshape(\n",
    "      (im_height, im_width, 3)).astype(np.uint8)"
   ]
  },
  {
   "cell_type": "code",
   "execution_count": null,
   "metadata": {},
   "outputs": [],
   "source": [
    "from glob import glob"
   ]
  },
  {
   "cell_type": "markdown",
   "metadata": {},
   "source": [
    "## Detection"
   ]
  },
  {
   "cell_type": "markdown",
   "metadata": {},
   "source": [
    "## 1. Testing SSD Inception Models"
   ]
  },
  {
   "cell_type": "markdown",
   "metadata": {},
   "source": [
    "### 1.1 Testing model trained on simulator on simulator images"
   ]
  },
  {
   "cell_type": "code",
   "execution_count": null,
   "metadata": {},
   "outputs": [],
   "source": [
    "detection_graph = tf.Graph()\n",
    "\n",
    "with detection_graph.as_default():\n",
    "    \n",
    "  od_graph_def = tf.GraphDef()\n",
    "\n",
    "  with tf.gfile.GFile(PATH_TO_MODEL, 'rb') as fid:\n",
    "        \n",
    "    serialized_graph = fid.read()\n",
    "    od_graph_def.ParseFromString(serialized_graph)\n",
    "    tf.import_graph_def(od_graph_def, name='')"
   ]
  },
  {
   "cell_type": "code",
   "execution_count": null,
   "metadata": {},
   "outputs": [],
   "source": [
    "print(\"detection_model.image_tensor: \")\n",
    "print(detection_graph.get_tensor_by_name('image_tensor:0'), \"\\n\")\n",
    "print(\"detection_model.detection_boxes: \")\n",
    "print(detection_graph.get_tensor_by_name('detection_boxes:0'), \"\\n\")\n",
    "print(\"detection_model.detection_scores: \")\n",
    "print(detection_graph.get_tensor_by_name('detection_scores:0'), \"\\n\")\n",
    "print(\"detection_model.detection_classes: \")\n",
    "print(detection_graph.get_tensor_by_name('detection_classes:0'), \"\\n\")\n",
    "print(\"detection_model.num_detections: \")\n",
    "print(detection_graph.get_tensor_by_name('num_detections:0'), \"\\n\")"
   ]
  },
  {
   "cell_type": "code",
   "execution_count": null,
   "metadata": {},
   "outputs": [],
   "source": [
    "PATH_TO_TEST_IMAGES_DIR = 'C:/Users/saidz/git/TrafficLight_Detection-TensorFlowAPI/test_images_sim/'\n",
    "PATH_TO_TEST_IMAGES_DIR = 'raw-images-simulation/'\n",
    "\n",
    "print(os.path.join(PATH_TO_TEST_IMAGES_DIR, '*.jpg'))\n",
    "TEST_IMAGE_PATHS = glob(os.path.join(PATH_TO_TEST_IMAGES_DIR, '*.jpg'))\n",
    "print(\"Length of test images:\", len(TEST_IMAGE_PATHS))\n",
    "\n",
    "# Size, in inches, of the output images.\n",
    "IMAGE_SIZE = (12, 8)"
   ]
  },
  {
   "cell_type": "code",
   "execution_count": null,
   "metadata": {},
   "outputs": [],
   "source": [
    "with detection_graph.as_default():\n",
    "    with tf.Session(graph=detection_graph) as sess:\n",
    "        # Definite input and output Tensors for detection_graph\n",
    "        image_tensor = detection_graph.get_tensor_by_name('image_tensor:0')\n",
    "        \n",
    "        # Each box represents a part of the image where a particular object was detected.\n",
    "        detection_boxes = detection_graph.get_tensor_by_name('detection_boxes:0')\n",
    "        \n",
    "        # Each score represent how level of confidence for each of the objects.\n",
    "        # Score is shown on the result image, together with the class label.\n",
    "        detection_scores = detection_graph.get_tensor_by_name('detection_scores:0')\n",
    "        detection_classes = detection_graph.get_tensor_by_name('detection_classes:0')\n",
    "        num_detections = detection_graph.get_tensor_by_name('num_detections:0')\n",
    "        \n",
    "        for image_path in TEST_IMAGE_PATHS:\n",
    "            image = Image.open(image_path)\n",
    "            print(\"Image size is: \", image.size)\n",
    "            # the array based representation of the image will be used later in order to prepare the\n",
    "            # result image with boxes and labels on it.\n",
    "            image_np = load_image_into_numpy_array(image)\n",
    "            # Expand dimensions since the model expects images to have shape: [1, None, None, 3]\n",
    "            image_np_expanded = np.expand_dims(image_np, axis=0)\n",
    "\n",
    "            time0 = time.time()\n",
    "\n",
    "            # Actual detection.\n",
    "            (boxes, scores, classes, num) = sess.run(\n",
    "              [detection_boxes, detection_scores, detection_classes, num_detections],\n",
    "              feed_dict={image_tensor: image_np_expanded})\n",
    "\n",
    "            time1 = time.time()\n",
    "\n",
    "            boxes = np.squeeze(boxes)\n",
    "            scores = np.squeeze(scores)\n",
    "            classes = np.squeeze(classes).astype(np.int32)\n",
    "            \n",
    "            # Visualization of the results of a detection.\n",
    "            vis_util.visualize_boxes_and_labels_on_image_array(\n",
    "                image_np, boxes, classes, scores,\n",
    "                category_index,\n",
    "                use_normalized_coordinates=True,\n",
    "                line_thickness=6)\n",
    "            \n",
    "            plt.figure(figsize=IMAGE_SIZE)\n",
    "            plt.imshow(image_np)\n",
    "            plt.show()\n",
    "\n",
    "            min_score_thresh = .50\n",
    "            for i in range(boxes.shape[0]):\n",
    "                if scores is None or scores[i] > min_score_thresh:\n",
    "\n",
    "                    class_name = category_index[classes[i]]['name']\n",
    "                    print('{}'.format(class_name), scores[i])\n",
    "                    \n",
    "                    fx =  0.97428\n",
    "                    fy =  1.73205\n",
    "                    perceived_width_x = (boxes[i][3] - boxes[i][1]) * 800\n",
    "                    perceived_width_y = (boxes[i][2] - boxes[i][0]) * 600\n",
    "\n",
    "                    # ymin, xmin, ymax, xmax = box\n",
    "                    # depth_prime = (width_real * focal) / perceived_width\n",
    "                    perceived_depth_x = ((.1 * fx) / perceived_width_x)\n",
    "                    perceived_depth_y = ((.3 * fy) / perceived_width_y )\n",
    "\n",
    "                    estimated_distance = round((perceived_depth_x + perceived_depth_y) / 2)\n",
    "                    print(\"Distance (metres)\", estimated_distance)\n",
    "                    print(\"Time in milliseconds\", (time1 - time0) * 1000, \"\\n\") "
   ]
  },
  {
   "cell_type": "markdown",
   "metadata": {},
   "source": [
    "### 1.2 Testing model trained on real images on Real World images"
   ]
  },
  {
   "cell_type": "code",
   "execution_count": null,
   "metadata": {},
   "outputs": [],
   "source": [
    "detection_graph = tf.Graph()\n",
    "\n",
    "with detection_graph.as_default():\n",
    "    \n",
    "  od_graph_def = tf.GraphDef()\n",
    "\n",
    "  with tf.gfile.GFile(ssd_inception_real_model, 'rb') as fid:\n",
    "        \n",
    "    serialized_graph = fid.read()\n",
    "    od_graph_def.ParseFromString(serialized_graph)\n",
    "    tf.import_graph_def(od_graph_def, name='')"
   ]
  },
  {
   "cell_type": "code",
   "execution_count": null,
   "metadata": {},
   "outputs": [],
   "source": [
    "PATH_TO_TEST_IMAGES_DIR = 'test_images_udacity'\n",
    "\n",
    "print(os.path.join(PATH_TO_TEST_IMAGES_DIR, '*.jpg'))\n",
    "TEST_IMAGE_PATHS = glob(os.path.join(PATH_TO_TEST_IMAGES_DIR, '*.jpg'))\n",
    "print(\"Length of test images:\", len(TEST_IMAGE_PATHS))\n",
    "\n",
    "# Size, in inches, of the output images.\n",
    "IMAGE_SIZE = (12, 8)"
   ]
  },
  {
   "cell_type": "code",
   "execution_count": null,
   "metadata": {},
   "outputs": [],
   "source": [
    "with detection_graph.as_default():\n",
    "    with tf.Session(graph=detection_graph) as sess:\n",
    "        # Definite input and output Tensors for detection_graph\n",
    "        image_tensor = detection_graph.get_tensor_by_name('image_tensor:0')\n",
    "        \n",
    "        # Each box represents a part of the image where a particular object was detected.\n",
    "        detection_boxes = detection_graph.get_tensor_by_name('detection_boxes:0')\n",
    "        \n",
    "        # Each score represent how level of confidence for each of the objects.\n",
    "        # Score is shown on the result image, together with the class label.\n",
    "        detection_scores = detection_graph.get_tensor_by_name('detection_scores:0')\n",
    "        detection_classes = detection_graph.get_tensor_by_name('detection_classes:0')\n",
    "        num_detections = detection_graph.get_tensor_by_name('num_detections:0')\n",
    "        for image_path in TEST_IMAGE_PATHS:\n",
    "            image = Image.open(image_path)\n",
    "            # the array based representation of the image will be used later in order to prepare the\n",
    "            # result image with boxes and labels on it.\n",
    "            image_np = load_image_into_numpy_array(image)\n",
    "            # Expand dimensions since the model expects images to have shape: [1, None, None, 3]\n",
    "            image_np_expanded = np.expand_dims(image_np, axis=0)\n",
    "\n",
    "            time0 = time.time()\n",
    "\n",
    "            # Actual detection.\n",
    "            (boxes, scores, classes, num) = sess.run(\n",
    "              [detection_boxes, detection_scores, detection_classes, num_detections],\n",
    "              feed_dict={image_tensor: image_np_expanded})\n",
    "\n",
    "            time1 = time.time()\n",
    "\n",
    "            boxes = np.squeeze(boxes)\n",
    "            scores = np.squeeze(scores)\n",
    "            classes = np.squeeze(classes).astype(np.int32)\n",
    "            \n",
    "            # Visualization of the results of a detection.\n",
    "            vis_util.visualize_boxes_and_labels_on_image_array(\n",
    "                image_np, boxes, classes, scores,\n",
    "                category_index,\n",
    "                use_normalized_coordinates=True,\n",
    "                line_thickness=6)\n",
    "            \n",
    "            plt.figure(figsize=IMAGE_SIZE)\n",
    "            plt.imshow(image_np)\n",
    "            plt.show()\n",
    "\n",
    "            min_score_thresh = .50\n",
    "            for i in range(boxes.shape[0]):\n",
    "                if scores is None or scores[i] > min_score_thresh:\n",
    "\n",
    "                    class_name = category_index[classes[i]]['name']\n",
    "                    print('{}'.format(class_name), scores[i])\n",
    "                    \n",
    "                    fx =  1345.200806\n",
    "                    fy =  1353.838257\n",
    "                    perceived_width_x = (boxes[i][3] - boxes[i][1]) * 800\n",
    "                    perceived_width_y = (boxes[i][2] - boxes[i][0]) * 600\n",
    "\n",
    "                    # ymin, xmin, ymax, xmax = box\n",
    "                    # depth_prime = (width_real * focal) / perceived_width\n",
    "                    perceived_depth_x = ((.1 * fx) / perceived_width_x)\n",
    "                    perceived_depth_y = ((.3 * fy) / perceived_width_y )\n",
    "\n",
    "                    estimated_distance = round((perceived_depth_x + perceived_depth_y) / 2)\n",
    "                    print(\"Distance (metres)\", estimated_distance)\n",
    "                    print(\"Time in milliseconds\", (time1 - time0) * 1000, \"\\n\")"
   ]
  },
  {
   "cell_type": "markdown",
   "metadata": {},
   "source": [
    "## 2. Testing Faster RCNN Models"
   ]
  },
  {
   "cell_type": "markdown",
   "metadata": {},
   "source": [
    "### 2.1 Testing model trained on simulator on simulator images"
   ]
  },
  {
   "cell_type": "code",
   "execution_count": null,
   "metadata": {},
   "outputs": [],
   "source": [
    "detection_graph = tf.Graph()\n",
    "\n",
    "with detection_graph.as_default():\n",
    "    \n",
    "  od_graph_def = tf.GraphDef()\n",
    "\n",
    "  with tf.gfile.GFile(faster_rcnn_sim_model, 'rb') as fid:\n",
    "        \n",
    "    serialized_graph = fid.read()\n",
    "    od_graph_def.ParseFromString(serialized_graph)\n",
    "    tf.import_graph_def(od_graph_def, name='')"
   ]
  },
  {
   "cell_type": "code",
   "execution_count": null,
   "metadata": {},
   "outputs": [],
   "source": [
    "PATH_TO_TEST_IMAGES_DIR = 'test_images_sim'\n",
    "\n",
    "print(os.path.join(PATH_TO_TEST_IMAGES_DIR, '*.jpg'))\n",
    "TEST_IMAGE_PATHS = glob(os.path.join(PATH_TO_TEST_IMAGES_DIR, '*.jpg'))\n",
    "print(\"Length of test images:\", len(TEST_IMAGE_PATHS))\n",
    "\n",
    "# Size, in inches, of the output images.\n",
    "IMAGE_SIZE = (12, 8)"
   ]
  },
  {
   "cell_type": "code",
   "execution_count": null,
   "metadata": {},
   "outputs": [],
   "source": [
    "with detection_graph.as_default():\n",
    "    with tf.Session(graph=detection_graph) as sess:\n",
    "        # Definite input and output Tensors for detection_graph\n",
    "        image_tensor = detection_graph.get_tensor_by_name('image_tensor:0')\n",
    "        \n",
    "        # Each box represents a part of the image where a particular object was detected.\n",
    "        detection_boxes = detection_graph.get_tensor_by_name('detection_boxes:0')\n",
    "        \n",
    "        # Each score represent how level of confidence for each of the objects.\n",
    "        # Score is shown on the result image, together with the class label.\n",
    "        detection_scores = detection_graph.get_tensor_by_name('detection_scores:0')\n",
    "        detection_classes = detection_graph.get_tensor_by_name('detection_classes:0')\n",
    "        num_detections = detection_graph.get_tensor_by_name('num_detections:0')\n",
    "        for image_path in TEST_IMAGE_PATHS:\n",
    "            image = Image.open(image_path)\n",
    "            # the array based representation of the image will be used later in order to prepare the\n",
    "            # result image with boxes and labels on it.\n",
    "            image_np = load_image_into_numpy_array(image)\n",
    "            # Expand dimensions since the model expects images to have shape: [1, None, None, 3]\n",
    "            image_np_expanded = np.expand_dims(image_np, axis=0)\n",
    "\n",
    "            time0 = time.time()\n",
    "\n",
    "            # Actual detection.\n",
    "            (boxes, scores, classes, num) = sess.run(\n",
    "              [detection_boxes, detection_scores, detection_classes, num_detections],\n",
    "              feed_dict={image_tensor: image_np_expanded})\n",
    "\n",
    "            time1 = time.time()\n",
    "\n",
    "            boxes = np.squeeze(boxes)\n",
    "            scores = np.squeeze(scores)\n",
    "            classes = np.squeeze(classes).astype(np.int32)\n",
    "            \n",
    "            # Visualization of the results of a detection.\n",
    "            vis_util.visualize_boxes_and_labels_on_image_array(\n",
    "                image_np, boxes, classes, scores,\n",
    "                category_index,\n",
    "                use_normalized_coordinates=True,\n",
    "                line_thickness=6)\n",
    "            \n",
    "            plt.figure(figsize=IMAGE_SIZE)\n",
    "            plt.imshow(image_np)\n",
    "            plt.show()\n",
    "\n",
    "            min_score_thresh = .50\n",
    "            for i in range(boxes.shape[0]):\n",
    "                if scores is None or scores[i] > min_score_thresh:\n",
    "\n",
    "                    class_name = category_index[classes[i]]['name']\n",
    "                    print('{}'.format(class_name), scores[i])\n",
    "                    \n",
    "                    fx =  0.97428\n",
    "                    fy =  1.73205\n",
    "                    perceived_width_x = (boxes[i][3] - boxes[i][1]) * 800\n",
    "                    perceived_width_y = (boxes[i][2] - boxes[i][0]) * 600\n",
    "\n",
    "                    # ymin, xmin, ymax, xmax = box\n",
    "                    # depth_prime = (width_real * focal) / perceived_width\n",
    "                    perceived_depth_x = ((.1 * fx) / perceived_width_x)\n",
    "                    perceived_depth_y = ((.3 * fy) / perceived_width_y )\n",
    "\n",
    "                    estimated_distance = round((perceived_depth_x + perceived_depth_y) / 2)\n",
    "                    print(\"Distance (metres)\", estimated_distance)\n",
    "                    print(\"Time in milliseconds\", (time1 - time0) * 1000, \"\\n\") "
   ]
  },
  {
   "cell_type": "markdown",
   "metadata": {},
   "source": [
    "### 2.2 Testing model trained on real images on Real World images"
   ]
  },
  {
   "cell_type": "code",
   "execution_count": null,
   "metadata": {},
   "outputs": [],
   "source": [
    "detection_graph = tf.Graph()\n",
    "\n",
    "with detection_graph.as_default():\n",
    "    \n",
    "  od_graph_def = tf.GraphDef()\n",
    "\n",
    "  with tf.gfile.GFile(faster_rcnn_real_model, 'rb') as fid:\n",
    "        \n",
    "    serialized_graph = fid.read()\n",
    "    od_graph_def.ParseFromString(serialized_graph)\n",
    "    tf.import_graph_def(od_graph_def, name='')"
   ]
  },
  {
   "cell_type": "code",
   "execution_count": null,
   "metadata": {},
   "outputs": [],
   "source": [
    "PATH_TO_TEST_IMAGES_DIR = 'test_images_udacity'\n",
    "\n",
    "print(os.path.join(PATH_TO_TEST_IMAGES_DIR, '*.jpg'))\n",
    "TEST_IMAGE_PATHS = glob(os.path.join(PATH_TO_TEST_IMAGES_DIR, '*.jpg'))\n",
    "print(\"Length of test images:\", len(TEST_IMAGE_PATHS))\n",
    "\n",
    "# Size, in inches, of the output images.\n",
    "IMAGE_SIZE = (12, 8)"
   ]
  },
  {
   "cell_type": "code",
   "execution_count": null,
   "metadata": {},
   "outputs": [],
   "source": [
    "with detection_graph.as_default():\n",
    "    with tf.Session(graph=detection_graph) as sess:\n",
    "        # Definite input and output Tensors for detection_graph\n",
    "        image_tensor = detection_graph.get_tensor_by_name('image_tensor:0')\n",
    "        \n",
    "        # Each box represents a part of the image where a particular object was detected.\n",
    "        detection_boxes = detection_graph.get_tensor_by_name('detection_boxes:0')\n",
    "        \n",
    "        # Each score represent how level of confidence for each of the objects.\n",
    "        # Score is shown on the result image, together with the class label.\n",
    "        detection_scores = detection_graph.get_tensor_by_name('detection_scores:0')\n",
    "        detection_classes = detection_graph.get_tensor_by_name('detection_classes:0')\n",
    "        num_detections = detection_graph.get_tensor_by_name('num_detections:0')\n",
    "        for image_path in TEST_IMAGE_PATHS:\n",
    "            image = Image.open(image_path)\n",
    "            # the array based representation of the image will be used later in order to prepare the\n",
    "            # result image with boxes and labels on it.\n",
    "            image_np = load_image_into_numpy_array(image)\n",
    "            # Expand dimensions since the model expects images to have shape: [1, None, None, 3]\n",
    "            image_np_expanded = np.expand_dims(image_np, axis=0)\n",
    "\n",
    "            time0 = time.time()\n",
    "\n",
    "            # Actual detection.\n",
    "            (boxes, scores, classes, num) = sess.run(\n",
    "              [detection_boxes, detection_scores, detection_classes, num_detections],\n",
    "              feed_dict={image_tensor: image_np_expanded})\n",
    "\n",
    "            time1 = time.time()\n",
    "\n",
    "            boxes = np.squeeze(boxes)\n",
    "            scores = np.squeeze(scores)\n",
    "            classes = np.squeeze(classes).astype(np.int32)\n",
    "            \n",
    "            # Visualization of the results of a detection.\n",
    "            vis_util.visualize_boxes_and_labels_on_image_array(\n",
    "                image_np, boxes, classes, scores,\n",
    "                category_index,\n",
    "                use_normalized_coordinates=True,\n",
    "                line_thickness=6)\n",
    "            \n",
    "            plt.figure(figsize=IMAGE_SIZE)\n",
    "            plt.imshow(image_np)\n",
    "            plt.show()\n",
    "\n",
    "            min_score_thresh = .50\n",
    "            for i in range(boxes.shape[0]):\n",
    "                if scores is None or scores[i] > min_score_thresh:\n",
    "\n",
    "                    class_name = category_index[classes[i]]['name']\n",
    "                    print('{}'.format(class_name), scores[i])\n",
    "                    \n",
    "                    fx =  1345.200806\n",
    "                    fy =  1353.838257\n",
    "                    perceived_width_x = (boxes[i][3] - boxes[i][1]) * 800\n",
    "                    perceived_width_y = (boxes[i][2] - boxes[i][0]) * 600\n",
    "\n",
    "                    # ymin, xmin, ymax, xmax = box\n",
    "                    # depth_prime = (width_real * focal) / perceived_width\n",
    "                    perceived_depth_x = ((.1 * fx) / perceived_width_x)\n",
    "                    perceived_depth_y = ((.3 * fy) / perceived_width_y )\n",
    "\n",
    "                    estimated_distance = round((perceived_depth_x + perceived_depth_y) / 2)\n",
    "                    print(\"Distance (metres)\", estimated_distance)\n",
    "                    print(\"Time in milliseconds\", (time1 - time0) * 1000, \"\\n\")"
   ]
  },
  {
   "cell_type": "code",
   "execution_count": null,
   "metadata": {},
   "outputs": [],
   "source": []
  }
 ],
 "metadata": {
  "kernelspec": {
   "display_name": "Python 3",
   "language": "python",
   "name": "python3"
  },
  "language_info": {
   "codemirror_mode": {
    "name": "ipython",
    "version": 3
   },
   "file_extension": ".py",
   "mimetype": "text/x-python",
   "name": "python",
   "nbconvert_exporter": "python",
   "pygments_lexer": "ipython3",
   "version": "3.5.2"
  }
 },
 "nbformat": 4,
 "nbformat_minor": 2
}
